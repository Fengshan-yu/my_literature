{
 "cells": [
  {
   "cell_type": "code",
   "execution_count": 2,
   "id": "cb67a86f",
   "metadata": {},
   "outputs": [],
   "source": [
    "import sqlite3"
   ]
  },
  {
   "cell_type": "code",
   "execution_count": 3,
   "id": "f4884536",
   "metadata": {},
   "outputs": [],
   "source": [
    "conn = sqlite3.connect(\"literature.db\")\n",
    "c = conn.cursor()\n",
    "c.execute('''CREATE TABLE IF NOT EXISTS literature (\n",
    "        author TEXT,\n",
    "        title TEXT,\n",
    "        journal TEXT,\n",
    "        year TEXT,\n",
    "        comment TEXT,\n",
    "        topic TEXT);''')\n",
    "conn.commit()\n",
    "conn.close()"
   ]
  },
  {
   "cell_type": "code",
   "execution_count": 2,
   "id": "3ec24cb1",
   "metadata": {},
   "outputs": [
    {
     "name": "stdout",
     "output_type": "stream",
     "text": [
      "Please enter the name of authors: Saef Izzy, Alexander Brown-Whalen, Taha Yahya, Aliyah Sarro-Schwartz, Gina Jin, Joon Yong Chung, Sevda Lule, Liza M. Morsett , Ali Alquraini, Limin Wu, Suzanne E. Hickman, Michael J. Whalen, Joseph El Khoury\n",
      "Literature title please: Repetitive Traumatic Brain Injury Causes Neuroinflammation before Tau Pathology in Adolescent P301S Mice\n",
      "Please enter the journal:International Journal of Molecular Science\n",
      "Enter the date2021\n",
      "Please enter the major comment:a three-hit daily repetitive concussive injury in adolescent P301S, but not wild type mice resulted in neuroinflammation at 40 days post-injury, defined by cortical and hippocampal microgliosis and corpus callosum astrocytosis. However, there was no observed change in phosphorylated or tangled tau in brain tissues at 40 days post-injury as assessed by immunostaining with several anti-tau antibodies (AT8, PHF1, and MC1) which recognize three different pathological p-tau epitopes\n",
      "Enter the related topic:repetitive TBI, Tau, neuroinflammation\n"
     ]
    }
   ],
   "source": [
    "author = input(\"Please enter the name of authors: \")\n",
    "title = input(\"Literature title please: \")\n",
    "journal = input(\"Please enter the journal:\")\n",
    "year = input(\"Enter the date\")\n",
    "comment = input(\"Please enter the major comment:\")\n",
    "topic = input(\"Enter the related topic:\")\n",
    "\n",
    "conn = sqlite3.connect(\"literature.db\")\n",
    "c = conn.cursor()\n",
    "c.execute(\"INSERT INTO literature (author, title, journal, year, comment, topic) VALUES (?,?,?,?,?,?)\",\n",
    "          (author, title, journal, year, comment, topic))\n",
    "conn.commit()\n",
    "conn.close()"
   ]
  },
  {
   "cell_type": "code",
   "execution_count": 20,
   "id": "1b92c785",
   "metadata": {
    "scrolled": false
   },
   "outputs": [
    {
     "name": "stdout",
     "output_type": "stream",
     "text": [
      "Anlys Olivera, Natasha Lejbman, Andreas Jeromin\n",
      "Peripheral Total Tau in Military Personnel Who Sustain Traumatic Brain Injuries During Deployment\n",
      "JAMA Neurol.,2015\n",
      "\n",
      "Cassandra L. Pattinson, Jessica M. Gill, Sara M. Lippa, Tracey A. Brickell, Louis M. French, Rael T. Lange\n",
      "Concurrent Mild Traumatic Brain Injury and Posttraumatic Stress Disorder Is Associated With Elevated Tau Concentrations in Peripheral Blood Plasma\n",
      "2019,2019\n",
      "\n",
      "Frederick K. Korley, John K. Yue, David H. Wilson, Kevin Hrusovsky, Ramon Diaz-Arrastia, Adam R. Ferguson, Esther L. Yuh, Pratik Mukherjee, Kevin K. W. Wang, Alex B. Valadka, Ava M. Puccio, David O. Okonkwo, and Geoffrey T. Manley\n",
      "Performance Evaluation of a Multiplex Assay for Simultaneous Detection of Four Clinically Relevant Traumatic Brain Injury Biomarkers\n",
      "Journal of Neurotrauma,2019\n",
      "\n"
     ]
    }
   ],
   "source": [
    "conn = sqlite3.connect(\"literature.db\")\n",
    "c = conn.cursor()\n",
    "c.execute(\"SELECT * FROM literature ORDER By author\")\n",
    "rows = c.fetchall()\n",
    "for row in rows:\n",
    "    if \"Simoa\" in row[5]:\n",
    "        print(row[0])\n",
    "        print(row[1])\n",
    "        print(row[2], end=\",\")\n",
    "        print(row[3])\n",
    "        print()\n",
    "conn.close()"
   ]
  },
  {
   "cell_type": "code",
   "execution_count": 5,
   "id": "a5c9f806",
   "metadata": {},
   "outputs": [],
   "source": [
    "conn = sqlite3.connect(\"literature.db\")\n",
    "c = conn.cursor()\n",
    "c.execute(\"DELETE FROM literature WHERE author=?\", (\"Saef Izzy 1,2,3, Alexander Brown-Whalen 2, Taha Yahya 1, Aliyah Sarro-Schwartz 1, Gina Jin 4, Joon Yong Chung 4,\",))\n",
    "conn.commit()\n",
    "conn.close()"
   ]
  },
  {
   "cell_type": "code",
   "execution_count": 46,
   "id": "02bd8d24",
   "metadata": {},
   "outputs": [
    {
     "name": "stdout",
     "output_type": "stream",
     "text": [
      "Please enter the name of authors: Cheryl E. G. Leyns, Jason D. Ulricha, Mary B. Finn, Floy R. Stewat, Lauren J. Koscal, Javier Remolina Serrano, Grace O. Robinson, Elise Anderson, Marco Colonna, and David M. Holtzman\n",
      "Literature title please: TREM2 deficiency attenuates neuroinflammation and protects against neurodegeneration in a mouse model of tauopathy\n",
      "Please enter the journal:PNAS\n",
      "Enter the date2017\n",
      "Please enter the major comment:TREM2(triggering receptor expressed on myeloid cells 2) knockout in PS19 mice reduced microgliosis, accompanied by preserved cortical volume without change in phospho-Tau levels.  (Strikingly, by 9 mo of age, T2−/−PS mice exhibited significantly less brain atrophy as quantified by ventricular enlargement and preserved cortical volume in the entorhinal and piriform regions compared with T2+/+PS mice. However, no TREM2- dependent differences were observed for phosphorylated tau staining or insoluble tau levels. Rather, T2−/−PS mice exhibited significantly reduced microgliosis in the hippocampus and piriform cortex comparedwith T2+/+PS mice. Gene expression analyses and immunostaining revealed microglial activation was significantly attenuated in T2−/−PS mice, and there were lower levels of inflammatory cytokines and astrogliosis. These unexpected findings suggest that impairing microglial TREM2 signaling reduces neuroinflammation and is protective against neurodegeneration in the setting of pure tauopathy. \n",
      "Enter the related topic:Tau, PS19, neuroinflammation, tauopathy\n"
     ]
    }
   ],
   "source": [
    "import sqlite3\n",
    "import tkinter as tk\n",
    "from tkinter import messagebox\n",
    "\n",
    "\n",
    "class Literature_Database:\n",
    "    def __init__(self):\n",
    "        self.conn = sqlite3.connect(\"literature.db\")\n",
    "        self.c = self.conn.cursor()\n",
    "        self.create_table()\n",
    "        \n",
    "    def create_table(self):\n",
    "        self.c.execute('''CREATE TABLE IF NOT EXISTS literature (\n",
    "                        author TEXT,\n",
    "                        title TEXT,\n",
    "                        journal TEXT,\n",
    "                        year TEXT,\n",
    "                        comment TEXT,\n",
    "                        topic TEXT);''')\n",
    "        \n",
    "    def add_literature(self):\n",
    "        author = input(\"Please enter the name of authors: \")\n",
    "        title = input(\"Literature title please: \")\n",
    "        journal = input(\"Please enter the journal:\")\n",
    "        year = input(\"Enter the date\")\n",
    "        comment = input(\"Please enter the major comment:\")\n",
    "        topic = input(\"Enter the related topic:\")\n",
    "        \n",
    "        self.c.execute(\"INSERT INTO literature (author, title, journal, year, comment, topic) VALUES (?,?,?,?,?,?)\",\n",
    "          (author, title, journal, year, comment, topic))\n",
    "        self.conn.commit()\n",
    "        tk.messagebox.showinfo(\"\",\"New literature added!\")\n",
    "        \n",
    "    def delete_literature(self): \n",
    "        column = input(\"Select the column to enter text: \")\n",
    "        text = input(\"Enter the text: \")\n",
    "        \n",
    "        self.c.execute(f\"DELETE FROM literature WHERE {area}=?\", (f\"{text}\",))\n",
    "        self.conn.commit()\n",
    "        tk.messagebox.showinfo(\"\",\"The literature was deleted!\")\n",
    "        \n",
    "    def show_literature(self):\n",
    "        self.c.execute('SELECT * FROM literature')\n",
    "        rows = self.c.fetchall()\n",
    "        for row in rows:\n",
    "            print(row[0])\n",
    "            print(row[1])\n",
    "            print(row[2], end=\", \")\n",
    "            print(row[3])\n",
    "            print()\n",
    "        tk.messagebox.showinfo(\"\",\"Here is the database!\")\n",
    "            \n",
    "    def update_literature(self):\n",
    "        column1 = input(\"Select the column to identify the literature (author, title,journal, year, comment, topic): \")\n",
    "        text1 = input(\"Enter the text to identify the literature: \")\n",
    "        column2 = input(\"Select the column to be updated (author, title,journal, year, comment, topic): \")\n",
    "        text2 = input(\"Enter the text to update: \")\n",
    "        \n",
    "        self.c.execute(f\"UPDATE literature SET {column2} = ? WHERE {column1} = ?\", (f\"{text2}\",f\"{text1}\"))\n",
    "        self.conn.commit()\n",
    "        tk.messagebox.showinfo(\"\",\"The literature was updated!\")\n",
    "\n",
    "my_literature = Literature_Database()\n",
    "\n",
    "def click1():\n",
    "    return my_literature.show_literature()\n",
    "\n",
    "def click2():\n",
    "    return my_literature.add_literature()\n",
    "\n",
    "def click3():\n",
    "    return my_literature.delete_literature()\n",
    "\n",
    "def click4():\n",
    "    return my_literature.update_literature()\n",
    "\n",
    "def click5():\n",
    "    window.destroy()\n",
    "\n",
    "window = tk.Tk()\n",
    "window.title(\"Literature\")\n",
    "window.geometry(\"200x200\")\n",
    "window.resizable(width=True, height=True)\n",
    "button1 = tk.Button(window, text=\"Show Database\", command=click1)\n",
    "button2 = tk.Button(window, text=\"Add Literature\", command=click2)\n",
    "button3 = tk.Button(window, text=\"Delete Literature\", command=click3)\n",
    "button4 = tk.Button(window, text=\"Update Literature\", command=click4)\n",
    "button5 = tk.Button(window, text=\"Exit\", command=click5)\n",
    "button1.grid(row=0, column=3)\n",
    "button2.grid(row=1, column=3)\n",
    "button3.grid(row=2, column=3)\n",
    "button4.grid(row=3, column=3)\n",
    "button5.grid(row=4, column=3)\n",
    "window.mainloop()"
   ]
  },
  {
   "cell_type": "code",
   "execution_count": 47,
   "id": "203de24c",
   "metadata": {},
   "outputs": [],
   "source": [
    "class My_Literature:\n",
    "    counter = 0\n",
    "    def __init__(self, author, title, journal, year, comment, topic):\n",
    "        self.author = author\n",
    "        self.title = title\n",
    "        self.journal = journal\n",
    "        self.year = year\n",
    "        self.comment = comment\n",
    "        self.topic = topic\n",
    "        My_Literature.counter += 1\n",
    "        \n",
    "    def __str__(self):\n",
    "        return f\"{self.author.split(',')[0]}.....{self.author.split(',')[-1]}; {' '.join(self.title.split(' ')[0:6])}.......; {self.journal}; {self.year}; \\n{self.comment}; \\n{self.topic}\\n\"\n",
    "      \n",
    "import sqlite3\n",
    "literatures=[]\n",
    "conn = sqlite3.connect(\"literature.db\")\n",
    "c = conn.cursor()\n",
    "c.execute(\"SELECT * FROM literature\")\n",
    "rows = c.fetchall()\n",
    "for row in rows:\n",
    "    literature = My_Literature(row[0], row[1], row[2], row[3], row[4], row[5])\n",
    "    literatures.append(literature)        \n"
   ]
  },
  {
   "cell_type": "code",
   "execution_count": 48,
   "id": "e331fbdf",
   "metadata": {},
   "outputs": [
    {
     "data": {
      "text/plain": [
       "61"
      ]
     },
     "execution_count": 48,
     "metadata": {},
     "output_type": "execute_result"
    }
   ],
   "source": [
    "My_Literature.counter\n"
   ]
  },
  {
   "cell_type": "code",
   "execution_count": 45,
   "id": "52a8802f",
   "metadata": {},
   "outputs": [],
   "source": [
    "for literature in literatures:\n",
    "    if \"TREM2 deficiency\" in literature.title:\n",
    "        print(literature)"
   ]
  },
  {
   "cell_type": "code",
   "execution_count": null,
   "id": "e9b70db7",
   "metadata": {},
   "outputs": [],
   "source": []
  }
 ],
 "metadata": {
  "kernelspec": {
   "display_name": "Python 3 (ipykernel)",
   "language": "python",
   "name": "python3"
  },
  "language_info": {
   "codemirror_mode": {
    "name": "ipython",
    "version": 3
   },
   "file_extension": ".py",
   "mimetype": "text/x-python",
   "name": "python",
   "nbconvert_exporter": "python",
   "pygments_lexer": "ipython3",
   "version": "3.9.7"
  }
 },
 "nbformat": 4,
 "nbformat_minor": 5
}
